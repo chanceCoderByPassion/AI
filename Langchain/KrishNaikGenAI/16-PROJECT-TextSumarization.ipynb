{
 "cells": [
  {
   "cell_type": "code",
   "execution_count": 42,
   "id": "86e8d149",
   "metadata": {},
   "outputs": [
    {
     "data": {
      "text/plain": [
       "ChatGroq(client=<groq.resources.chat.completions.Completions object at 0x00000244C53B9700>, async_client=<groq.resources.chat.completions.AsyncCompletions object at 0x00000244C53BA150>, model_name='Gemma2-9b-It', model_kwargs={}, groq_api_key=SecretStr('**********'))"
      ]
     },
     "execution_count": 42,
     "metadata": {},
     "output_type": "execute_result"
    }
   ],
   "source": [
    "from langchain_groq import ChatGroq\n",
    "import os\n",
    "from dotenv import load_dotenv\n",
    "load_dotenv()\n",
    "os.environ[\"GROQ_API_KEY\"]=os.getenv(\"GROQ_API_KEY\")\n",
    "llm=ChatGroq(model=\"Gemma2-9b-It\",api_key=os.environ[\"GROQ_API_KEY\"])\n",
    "llm"
   ]
  },
  {
   "cell_type": "code",
   "execution_count": 43,
   "id": "61893368",
   "metadata": {},
   "outputs": [],
   "source": [
    "from langchain.schema import(\n",
    "    AIMessage,\n",
    "    HumanMessage,\n",
    "    SystemMessage\n",
    ")"
   ]
  },
  {
   "cell_type": "code",
   "execution_count": 44,
   "id": "b8bff286",
   "metadata": {},
   "outputs": [],
   "source": [
    "speech=\"\"\"\n",
    "I have three visions for India. In 3000 years of our history people from all over the world have come and invaded us, captured our lands, conquered our minds. From Alexander onwards the Greeks, the Turks, the Moguls, the Portuguese, the British, the French, the Dutch, all of them came and looted us, took over what was ours. Yet we have not done this to any other nation.\n",
    "\n",
    "We have not conquered anyone. We have not grabbed their land, their culture and their history and tried to enforce our way of life on them. Why? Because we respect the freedom of others. That is why my FIRST VISION is that of FREEDOM. I believe that India got its first vision of this in 1857, when we started the war of Independence. It is this freedom that we must protect and nurture and build on. If we are not free, no one will respect us.\n",
    "\n",
    "We have 10 percent growth rate in most areas. Our poverty levels are falling. Our achievements are being globally recognised today. Yet we lack the self-confidence to see ourselves as a developed nation, self-reliant and self-assured. Isn’t this incorrect? MY SECOND VISION for India is DEVELOPMENT. For fifty years we have been a developing nation. It is time we see ourselves as a developed nation. We are among top five nations in the world in terms of GDP.\n",
    "\n",
    "I have a THIRD VISION. India must stand up to the world. Because I believe that unless India stands up to the world, no one will respect us. Only strength respects strength. We must be strong not only as a military power but also as an economic power. Both must go hand-in-hand. My good fortune was to have worked with three great minds. Dr.Vikram Sarabhai, of the Dept. of Space, Professor Satish Dhawan, who succeeded him and Dr. Brahm Prakash, father of nuclear material. I was lucky to have worked with all three of them closely and consider this the great opportunity of my life.\n",
    "\n",
    "I was in Hyderabad giving this lecture, when a 14 year-old girl asked me for my autograph. I asked her what her goal in life is. She replied: I want to live in a developed India. For her, you and I will have to build this developed India. You must proclaim India is not an underdeveloped nation; it is a highly developed nation.\n",
    "\n",
    "You say that our government is inefficient. You say that our laws are too old. You say that the municipality does not pick up the garbage. You say that the phones don’t work, the railways are a joke, the airline is the worst in the world, and mails never reach their destination. You say that our country has been fed to the dogs and is the absolute pits. You say, say and say. What do you do about it?\n",
    "\n",
    "Dear Indians, I am echoing J.F.Kennedy’s words to his fellow Americans to relate to Indians ……. “ASK WHAT WE CAN DO FOR INDIA AND DO WHAT HAS TO BE DONE TO MAKE INDIA WHAT AMERICA AND OTHER WESTERN COUNTRIES ARE TODAY.”\n",
    "\"\"\""
   ]
  },
  {
   "cell_type": "code",
   "execution_count": 45,
   "id": "33bf4e3e",
   "metadata": {},
   "outputs": [
    {
     "data": {
      "text/plain": [
       "'\\nI have three visions for India. In 3000 years of our history people from all over the world have come and invaded us, captured our lands, conquered our minds. From Alexander onwards the Greeks, the Turks, the Moguls, the Portuguese, the British, the French, the Dutch, all of them came and looted us, took over what was ours. Yet we have not done this to any other nation.\\n\\nWe have not conquered anyone. We have not grabbed their land, their culture and their history and tried to enforce our way of life on them. Why? Because we respect the freedom of others. That is why my FIRST VISION is that of FREEDOM. I believe that India got its first vision of this in 1857, when we started the war of Independence. It is this freedom that we must protect and nurture and build on. If we are not free, no one will respect us.\\n\\nWe have 10 percent growth rate in most areas. Our poverty levels are falling. Our achievements are being globally recognised today. Yet we lack the self-confidence to see ourselves as a developed nation, self-reliant and self-assured. Isn’t this incorrect? MY SECOND VISION for India is DEVELOPMENT. For fifty years we have been a developing nation. It is time we see ourselves as a developed nation. We are among top five nations in the world in terms of GDP.\\n\\nI have a THIRD VISION. India must stand up to the world. Because I believe that unless India stands up to the world, no one will respect us. Only strength respects strength. We must be strong not only as a military power but also as an economic power. Both must go hand-in-hand. My good fortune was to have worked with three great minds. Dr.Vikram Sarabhai, of the Dept. of Space, Professor Satish Dhawan, who succeeded him and Dr. Brahm Prakash, father of nuclear material. I was lucky to have worked with all three of them closely and consider this the great opportunity of my life.\\n\\nI was in Hyderabad giving this lecture, when a 14 year-old girl asked me for my autograph. I asked her what her goal in life is. She replied: I want to live in a developed India. For her, you and I will have to build this developed India. You must proclaim India is not an underdeveloped nation; it is a highly developed nation.\\n\\nYou say that our government is inefficient. You say that our laws are too old. You say that the municipality does not pick up the garbage. You say that the phones don’t work, the railways are a joke, the airline is the worst in the world, and mails never reach their destination. You say that our country has been fed to the dogs and is the absolute pits. You say, say and say. What do you do about it?\\n\\nDear Indians, I am echoing J.F.Kennedy’s words to his fellow Americans to relate to Indians ……. “ASK WHAT WE CAN DO FOR INDIA AND DO WHAT HAS TO BE DONE TO MAKE INDIA WHAT AMERICA AND OTHER WESTERN COUNTRIES ARE TODAY.”\\n'"
      ]
     },
     "execution_count": 45,
     "metadata": {},
     "output_type": "execute_result"
    }
   ],
   "source": [
    "speech"
   ]
  },
  {
   "cell_type": "code",
   "execution_count": 46,
   "id": "a3782da3",
   "metadata": {},
   "outputs": [],
   "source": [
    "chat_message=[\n",
    "    SystemMessage(content=\"You are an expert with expertise in summarizing speeches.\"),\n",
    "    HumanMessage(content=f\"Please provide a short and concise summary of the following speech:\\n Text:{speech}\")\n",
    "]"
   ]
  },
  {
   "cell_type": "code",
   "execution_count": 47,
   "id": "8c3fdb9c",
   "metadata": {},
   "outputs": [
    {
     "data": {
      "text/plain": [
       "675"
      ]
     },
     "execution_count": 47,
     "metadata": {},
     "output_type": "execute_result"
    }
   ],
   "source": [
    "llm.get_num_tokens(speech)"
   ]
  },
  {
   "cell_type": "code",
   "execution_count": 48,
   "id": "5a764fb9",
   "metadata": {},
   "outputs": [
    {
     "data": {
      "text/plain": [
       "AIMessage(content=\"This speech emphasizes three visions for India: **freedom**, **development**, and **strength**.  \\n\\nThe speaker highlights India's historical resilience against invaders, stressing the nation's commitment to freedom and the need to protect it. He argues that India, with its growing economy and global recognition, should see itself as a developed nation, not just a developing one.  Finally, he calls for India to become a strong military and economic power, advocating for self-reliance and global respect. He concludes by urging Indians to take responsibility and actively contribute to building a developed and powerful India, echoing JFK's call to service. \\n\\n\\n\\n\", additional_kwargs={}, response_metadata={'token_usage': {'completion_tokens': 130, 'prompt_tokens': 681, 'total_tokens': 811, 'completion_time': 0.236363636, 'prompt_time': 0.024607153, 'queue_time': 0.250080916, 'total_time': 0.260970789}, 'model_name': 'Gemma2-9b-It', 'system_fingerprint': 'fp_10c08bf97d', 'finish_reason': 'stop', 'logprobs': None}, id='run--10c0c629-18e6-40a5-8276-1c1d11d2daf4-0', usage_metadata={'input_tokens': 681, 'output_tokens': 130, 'total_tokens': 811})"
      ]
     },
     "execution_count": 48,
     "metadata": {},
     "output_type": "execute_result"
    }
   ],
   "source": [
    "llm(chat_message)"
   ]
  },
  {
   "cell_type": "code",
   "execution_count": 49,
   "id": "3713e68f",
   "metadata": {},
   "outputs": [
    {
     "data": {
      "text/plain": [
       "PromptTemplate(input_variables=['language', 'speech'], input_types={}, partial_variables={}, template='\\nWrite a summary of the following speech:\\nSpeech:{speech}\\nTranslate the precise summmary to {language}\\n')"
      ]
     },
     "execution_count": 49,
     "metadata": {},
     "output_type": "execute_result"
    }
   ],
   "source": [
    "from langchain.chains import LLMChain\n",
    "from langchain import PromptTemplate\n",
    "\n",
    "generictemplate = \"\"\"\n",
    "Write a summary of the following speech:\n",
    "Speech:{speech}\n",
    "Translate the precise summmary to {language}\n",
    "\"\"\"\n",
    "\n",
    "prompt = PromptTemplate(\n",
    "    input_variables=[\"speech\",'language'],\n",
    "    template=generictemplate\n",
    ")\n",
    "\n",
    "prompt"
   ]
  },
  {
   "cell_type": "code",
   "execution_count": 50,
   "id": "87d3c714",
   "metadata": {},
   "outputs": [],
   "source": [
    "complete_prompt=prompt.format(speech=speech,language=\"hindi\")"
   ]
  },
  {
   "cell_type": "code",
   "execution_count": 51,
   "id": "edfedfa3",
   "metadata": {},
   "outputs": [
    {
     "data": {
      "text/plain": [
       "700"
      ]
     },
     "execution_count": 51,
     "metadata": {},
     "output_type": "execute_result"
    }
   ],
   "source": [
    "llm.get_num_tokens(complete_prompt)"
   ]
  },
  {
   "cell_type": "code",
   "execution_count": 52,
   "id": "e6adc844",
   "metadata": {},
   "outputs": [
    {
     "data": {
      "text/plain": [
       "'This speech outlines the speaker\\'s three visions for India:\\n\\n**Freedom:** India\\'s history of resisting conquest and respecting others\\' freedom is highlighted. The speaker emphasizes the importance of protecting and nurturing this freedom.\\n\\n**Development:**  The speaker acknowledges India\\'s economic progress but argues that the nation needs to shed its \"developing\" label and see itself as a developed one, comparable to the world\\'s top economies.\\n\\n**Strength:**  India needs to assert itself on the global stage, both militarily and economically. The speaker draws inspiration from historical figures and emphasizes the importance of strength to earn respect.\\n\\nThe speech concludes with a call to action, urging Indians to take responsibility for the nation\\'s progress and work towards achieving these visions.  The speaker uses JFK\\'s famous quote, \"Ask not what your country can do for you - ask what you can do for your country,\" to inspire action and national unity.\\n\\n\\n**हिंदी अनुवाद:**\\n\\nयह भाषण वक्ता के भारत के लिए तीन दृष्टिओं का वर्णन करता है:\\n\\n**आज़ादी:** भारत के विजय सेनाओं का विरोध करने और अन्य की स्वतंत्रता का सम्मान करने के इतिहास पर प्रकाश डाला गया है। वक्ता इस आज़ादी को संरक्षित और पोषित करने के महत्व पर जोर देता है।\\n\\n**विकास:** वक्ता भारत की आर्थिक प्रगति को स्वीकार करता है, लेकिन तर्क देता है कि राष्ट्र को \"विकासशील\" पदनाम त्याग देना चाहिए और खुद को विकसित राष्ट्र के रूप में देखना चाहिए, जो दुनिया की शीर्ष अर्थव्यवस्थाओं के बराबर है।\\n\\n**शक्ति:** भारत को वैश्विक मंच पर अपनी स्थिति स्थापित करनी होगी, सैन्य और आर्थिक रूप से दोनों। वक्ता ऐतिहासिक व्यक्तियों से प्रेरणा लेता है और सम्मान अर्जित करने के लिए शक्ति के महत्व पर जोर देता है।\\n\\nभाषण एक कार्यवाही के लिए एक आह्वान के साथ समाप्त होता है, जिसमें भारतीयों से राष्ट्र की प्रगति के लिए ज़िम्मेदारी लेने और इन दृष्टिओं को प्राप्त करने के लिए काम करने का आग्रह किया जाता है। वक्ता जे.एफ.केनेडी के प्रसिद्ध उद्धरण का उपयोग करता है, \"अपने देश से न पूछें कि वह आपके लिए क्या कर सकता है - पूछें कि आप अपने देश के लिए क्या कर सकते हैं,\" प्रेरणा और राष्ट्रीय एकता को जगाने के लिए। \\n\\n\\n'"
      ]
     },
     "execution_count": 52,
     "metadata": {},
     "output_type": "execute_result"
    }
   ],
   "source": [
    "llm_chain = LLMChain(llm=llm,prompt=prompt)\n",
    "summary=llm_chain.run({'speech':speech,'language':\"Hindi\"})\n",
    "summary"
   ]
  },
  {
   "cell_type": "code",
   "execution_count": 53,
   "id": "39fe3590",
   "metadata": {},
   "outputs": [],
   "source": [
    "# Stuff document chain text summarization technique"
   ]
  },
  {
   "cell_type": "code",
   "execution_count": 54,
   "id": "b03ea7e3",
   "metadata": {},
   "outputs": [
    {
     "data": {
      "text/plain": [
       "[Document(metadata={'producer': 'Microsoft: Print To PDF', 'creator': 'PyPDF', 'creationdate': '2025-06-03T16:21:51+05:30', 'author': 'Aakash Srivastava', 'moddate': '2025-06-03T16:21:51+05:30', 'title': 'speech.txt - Notepad', 'source': 'speech.pdf', 'total_pages': 1, 'page': 0, 'page_label': '1'}, page_content='I have three visions for India. In 3000 years of our history people from all over \\nthe world have come and invaded us, captured our lands, conquered our minds. From \\nAlexander onwards the Greeks, the Turks, the Moguls, the Portuguese, the British, \\nthe French, the Dutch, all of them came and looted us, took over what was ours. Yet\\nwe have not done this to any other nation.\\nWe have not conquered anyone. We have not grabbed their land, their culture and \\ntheir history and tried to enforce our way of life on them. Why? Because we respect\\nthe freedom of others. That is why my FIRST VISION is that of FREEDOM. I believe \\nthat India got its first vision of this in 1857, when we started the war of \\nIndependence. It is this freedom that we must protect and nurture and build on. If \\nwe are not free, no one will respect us.\\nWe have 10 percent growth rate in most areas. Our poverty levels are falling. Our \\nachievements are being globally recognised today. Yet we lack the self-confidence \\nto see ourselves as a developed nation, self-reliant and self-assured. Isn’t this \\nincorrect? MY SECOND VISION for India is DEVELOPMENT. For fifty years we have been \\na developing nation. It is time we see ourselves as a developed nation. We are \\namong top five nations in the world in terms of GDP.\\nI have a THIRD VISION. India must stand up to the world. Because I believe that \\nunless India stands up to the world, no one will respect us. Only strength respects\\nstrength. We must be strong not only as a military power but also as an economic \\npower. Both must go hand-in-hand. My good fortune was to have worked with three \\ngreat minds. Dr.Vikram Sarabhai, of the Dept. of Space, Professor Satish Dhawan, \\nwho succeeded him and Dr. Brahm Prakash, father of nuclear material. I was lucky to\\nhave worked with all three of them closely and consider this the great opportunity \\nof my life.\\nI was in Hyderabad giving this lecture, when a 14 year-old girl asked me for my \\nautograph. I asked her what her goal in life is. She replied: I want to live in a \\ndeveloped India. For her, you and I will have to build this developed India. You \\nmust proclaim India is not an underdeveloped nation; it is a highly developed \\nnation.\\nYou say that our government is inefficient. You say that our laws are too old. You \\nsay that the municipality does not pick up the garbage. You say that the phones \\ndon’t work, the railways are a joke, the airline is the worst in the world, and \\nmails never reach their destination. You say that our country has been fed to the \\ndogs and is the absolute pits. You say, say and say. What do you do about it?\\nDear Indians, I am echoing J.F.Kennedy’s words to his fellow Americans to relate to\\nIndians ……. “ASK WHAT WE CAN DO FOR INDIA AND DO WHAT HAS TO BE DONE TO MAKE INDIA \\nWHAT AMERICA AND OTHER WESTERN COUNTRIES ARE TODAY.”')]"
      ]
     },
     "execution_count": 54,
     "metadata": {},
     "output_type": "execute_result"
    }
   ],
   "source": [
    "# Stuff document chain text Summarization\n",
    "from langchain_community.document_loaders import PyPDFLoader\n",
    "\n",
    "loader=PyPDFLoader(\"speech.pdf\")\n",
    "docs=loader.load_and_split()\n",
    "docs"
   ]
  },
  {
   "cell_type": "code",
   "execution_count": 55,
   "id": "25bd5430",
   "metadata": {},
   "outputs": [],
   "source": [
    "template = \"\"\"\n",
    "Write a concise and short summary of the following research paper\n",
    "Speech:{text}\n",
    "\"\"\"\n",
    "\n",
    "prompt = PromptTemplate(\n",
    "    input_variables=[\"text\"],template=template\n",
    ")"
   ]
  },
  {
   "cell_type": "code",
   "execution_count": 56,
   "id": "42e6b7d3",
   "metadata": {},
   "outputs": [],
   "source": [
    "from langchain.chains.summarize import load_summarize_chain "
   ]
  },
  {
   "cell_type": "code",
   "execution_count": 57,
   "id": "9115f818",
   "metadata": {},
   "outputs": [
    {
     "name": "stdout",
     "output_type": "stream",
     "text": [
      "\n",
      "\n",
      "\u001b[1m> Entering new StuffDocumentsChain chain...\u001b[0m\n",
      "\n",
      "\n",
      "\u001b[1m> Entering new LLMChain chain...\u001b[0m\n",
      "Prompt after formatting:\n",
      "\u001b[32;1m\u001b[1;3m\n",
      "Write a concise and short summary of the following research paper\n",
      "Speech:I have three visions for India. In 3000 years of our history people from all over \n",
      "the world have come and invaded us, captured our lands, conquered our minds. From \n",
      "Alexander onwards the Greeks, the Turks, the Moguls, the Portuguese, the British, \n",
      "the French, the Dutch, all of them came and looted us, took over what was ours. Yet\n",
      "we have not done this to any other nation.\n",
      "We have not conquered anyone. We have not grabbed their land, their culture and \n",
      "their history and tried to enforce our way of life on them. Why? Because we respect\n",
      "the freedom of others. That is why my FIRST VISION is that of FREEDOM. I believe \n",
      "that India got its first vision of this in 1857, when we started the war of \n",
      "Independence. It is this freedom that we must protect and nurture and build on. If \n",
      "we are not free, no one will respect us.\n",
      "We have 10 percent growth rate in most areas. Our poverty levels are falling. Our \n",
      "achievements are being globally recognised today. Yet we lack the self-confidence \n",
      "to see ourselves as a developed nation, self-reliant and self-assured. Isn’t this \n",
      "incorrect? MY SECOND VISION for India is DEVELOPMENT. For fifty years we have been \n",
      "a developing nation. It is time we see ourselves as a developed nation. We are \n",
      "among top five nations in the world in terms of GDP.\n",
      "I have a THIRD VISION. India must stand up to the world. Because I believe that \n",
      "unless India stands up to the world, no one will respect us. Only strength respects\n",
      "strength. We must be strong not only as a military power but also as an economic \n",
      "power. Both must go hand-in-hand. My good fortune was to have worked with three \n",
      "great minds. Dr.Vikram Sarabhai, of the Dept. of Space, Professor Satish Dhawan, \n",
      "who succeeded him and Dr. Brahm Prakash, father of nuclear material. I was lucky to\n",
      "have worked with all three of them closely and consider this the great opportunity \n",
      "of my life.\n",
      "I was in Hyderabad giving this lecture, when a 14 year-old girl asked me for my \n",
      "autograph. I asked her what her goal in life is. She replied: I want to live in a \n",
      "developed India. For her, you and I will have to build this developed India. You \n",
      "must proclaim India is not an underdeveloped nation; it is a highly developed \n",
      "nation.\n",
      "You say that our government is inefficient. You say that our laws are too old. You \n",
      "say that the municipality does not pick up the garbage. You say that the phones \n",
      "don’t work, the railways are a joke, the airline is the worst in the world, and \n",
      "mails never reach their destination. You say that our country has been fed to the \n",
      "dogs and is the absolute pits. You say, say and say. What do you do about it?\n",
      "Dear Indians, I am echoing J.F.Kennedy’s words to his fellow Americans to relate to\n",
      "Indians ……. “ASK WHAT WE CAN DO FOR INDIA AND DO WHAT HAS TO BE DONE TO MAKE INDIA \n",
      "WHAT AMERICA AND OTHER WESTERN COUNTRIES ARE TODAY.”\n",
      "\u001b[0m\n",
      "\n",
      "\u001b[1m> Finished chain.\u001b[0m\n",
      "\n",
      "\u001b[1m> Finished chain.\u001b[0m\n"
     ]
    }
   ],
   "source": [
    "chain = load_summarize_chain(llm,chain_type='stuff',prompt=prompt,verbose=True)\n",
    "output_summary=chain.run(docs)"
   ]
  },
  {
   "cell_type": "code",
   "execution_count": 58,
   "id": "0011f8e5",
   "metadata": {},
   "outputs": [
    {
     "data": {
      "text/plain": [
       "'This speech outlines three visions for India\\'s future: **freedom, development, and global strength**.  \\n\\nThe speaker emphasizes India\\'s rich history of resisting foreign domination and its potential for economic growth. They call for a shift in mindset, urging Indians to view themselves as a developed nation and take responsibility for its progress. \\n\\nThey inspire action, quoting JFK: \"Ask what we can do for India,\" and urging citizens to contribute to building a strong and prosperous India. \\n\\n\\nThe speech highlights the importance of self-reliance, national pride, and active participation in shaping India\\'s destiny. \\n'"
      ]
     },
     "execution_count": 58,
     "metadata": {},
     "output_type": "execute_result"
    }
   ],
   "source": [
    "output_summary"
   ]
  },
  {
   "cell_type": "code",
   "execution_count": null,
   "id": "8b9c5a1d",
   "metadata": {},
   "outputs": [],
   "source": [
    "# MAP Reduce to summarize large documents"
   ]
  },
  {
   "cell_type": "code",
   "execution_count": 59,
   "id": "ee2bcf50",
   "metadata": {},
   "outputs": [],
   "source": [
    "from langchain.text_splitter import RecursiveCharacterTextSplitter\n",
    "final_docs = RecursiveCharacterTextSplitter(chunk_size=2000,chunk_overlap=100).split_documents(docs)\n"
   ]
  },
  {
   "cell_type": "code",
   "execution_count": 60,
   "id": "53d565eb",
   "metadata": {},
   "outputs": [],
   "source": [
    "chunks_prompt = \"\"\"\n",
    "Please summarize the below speech:\n",
    "Speech:{text}\n",
    "Summary:\n",
    "\"\"\"\n",
    "map_prompt_template=PromptTemplate(input_variables=['text'],template=chunks_prompt)"
   ]
  },
  {
   "cell_type": "code",
   "execution_count": 62,
   "id": "b0b77bdc",
   "metadata": {},
   "outputs": [],
   "source": [
    "final_prompt = \"\"\"\n",
    "Provide the final summary of the entire speech with these important points.\n",
    "Add a motivational title,start the precise summary with an introduction and provide the summary\n",
    " in number points for the speech.capitalizeSpeech:{text}\n",
    "\"\"\"\n",
    "final_prompt_template=PromptTemplate(input_variables=['text'],template=final_prompt)"
   ]
  },
  {
   "cell_type": "code",
   "execution_count": 63,
   "id": "c1cab4f7",
   "metadata": {},
   "outputs": [
    {
     "name": "stdout",
     "output_type": "stream",
     "text": [
      "\n",
      "\n",
      "\u001b[1m> Entering new MapReduceDocumentsChain chain...\u001b[0m\n",
      "\n",
      "\n",
      "\u001b[1m> Entering new LLMChain chain...\u001b[0m\n",
      "Prompt after formatting:\n",
      "\u001b[32;1m\u001b[1;3m\n",
      "Please summarize the below speech:\n",
      "Speech:I have three visions for India. In 3000 years of our history people from all over \n",
      "the world have come and invaded us, captured our lands, conquered our minds. From \n",
      "Alexander onwards the Greeks, the Turks, the Moguls, the Portuguese, the British, \n",
      "the French, the Dutch, all of them came and looted us, took over what was ours. Yet\n",
      "we have not done this to any other nation.\n",
      "We have not conquered anyone. We have not grabbed their land, their culture and \n",
      "their history and tried to enforce our way of life on them. Why? Because we respect\n",
      "the freedom of others. That is why my FIRST VISION is that of FREEDOM. I believe \n",
      "that India got its first vision of this in 1857, when we started the war of \n",
      "Independence. It is this freedom that we must protect and nurture and build on. If \n",
      "we are not free, no one will respect us.\n",
      "We have 10 percent growth rate in most areas. Our poverty levels are falling. Our \n",
      "achievements are being globally recognised today. Yet we lack the self-confidence \n",
      "to see ourselves as a developed nation, self-reliant and self-assured. Isn’t this \n",
      "incorrect? MY SECOND VISION for India is DEVELOPMENT. For fifty years we have been \n",
      "a developing nation. It is time we see ourselves as a developed nation. We are \n",
      "among top five nations in the world in terms of GDP.\n",
      "I have a THIRD VISION. India must stand up to the world. Because I believe that \n",
      "unless India stands up to the world, no one will respect us. Only strength respects\n",
      "strength. We must be strong not only as a military power but also as an economic \n",
      "power. Both must go hand-in-hand. My good fortune was to have worked with three \n",
      "great minds. Dr.Vikram Sarabhai, of the Dept. of Space, Professor Satish Dhawan, \n",
      "who succeeded him and Dr. Brahm Prakash, father of nuclear material. I was lucky to\n",
      "have worked with all three of them closely and consider this the great opportunity \n",
      "of my life.\n",
      "I was in Hyderabad giving this lecture, when a 14 year-old girl asked me for my\n",
      "Summary:\n",
      "\u001b[0m\n",
      "Prompt after formatting:\n",
      "\u001b[32;1m\u001b[1;3m\n",
      "Please summarize the below speech:\n",
      "Speech:of my life.\n",
      "I was in Hyderabad giving this lecture, when a 14 year-old girl asked me for my \n",
      "autograph. I asked her what her goal in life is. She replied: I want to live in a \n",
      "developed India. For her, you and I will have to build this developed India. You \n",
      "must proclaim India is not an underdeveloped nation; it is a highly developed \n",
      "nation.\n",
      "You say that our government is inefficient. You say that our laws are too old. You \n",
      "say that the municipality does not pick up the garbage. You say that the phones \n",
      "don’t work, the railways are a joke, the airline is the worst in the world, and \n",
      "mails never reach their destination. You say that our country has been fed to the \n",
      "dogs and is the absolute pits. You say, say and say. What do you do about it?\n",
      "Dear Indians, I am echoing J.F.Kennedy’s words to his fellow Americans to relate to\n",
      "Indians ……. “ASK WHAT WE CAN DO FOR INDIA AND DO WHAT HAS TO BE DONE TO MAKE INDIA \n",
      "WHAT AMERICA AND OTHER WESTERN COUNTRIES ARE TODAY.”\n",
      "Summary:\n",
      "\u001b[0m\n",
      "\n",
      "\u001b[1m> Finished chain.\u001b[0m\n",
      "\n",
      "\n",
      "\u001b[1m> Entering new LLMChain chain...\u001b[0m\n",
      "Prompt after formatting:\n",
      "\u001b[32;1m\u001b[1;3m\n",
      "Provide the final summary of the entire speech with these important points.\n",
      "Add a motivational title,start the precise summary with an introduction and provide the summary\n",
      " in number points for the speech.capitalizeSpeech:The speaker outlines three visions for India:\n",
      "\n",
      "**1. Freedom:** Emphasizing India's historical resistance to conquest and its respect for other nations' freedom, the speaker calls for protecting and strengthening this fundamental value.\n",
      "\n",
      "**2. Development:**  Highlighting India's economic growth and achievements, the speaker argues for a shift in mindset from \"developing\" to \"developed,\" believing India deserves recognition as a powerful and self-reliant nation.\n",
      "\n",
      "**3. Strength:** \n",
      "\n",
      "The speaker stresses the importance of India becoming a strong military and economic power on the global stage. They argue that strength begets respect and that India must assert its position in the world.\n",
      "\n",
      "The speech concludes with a personal anecdote about working with notable scientists, showcasing the speaker's belief in India's scientific and technological prowess. \n",
      "\n",
      "\n",
      "The speaker, inspired by a 14-year-old girl's dream of a developed India, challenges the audience to stop complaining about India's problems and start taking action to solve them.  \n",
      "\n",
      "He acknowledges common criticisms about India's government, infrastructure, and services, but argues that negativity is unproductive.  He urges Indians to emulate the spirit of John F. Kennedy's call to service, asking \"What can we do for India?\" and taking concrete steps to improve the nation. \n",
      "\n",
      "\n",
      "Essentially, the speech is a call to action for positive change, urging Indians to shift from complaining to contributing to the development of their country. \n",
      "\n",
      "\u001b[0m\n",
      "\n",
      "\u001b[1m> Finished chain.\u001b[0m\n",
      "\n",
      "\u001b[1m> Finished chain.\u001b[0m\n"
     ]
    }
   ],
   "source": [
    "summary_chain = load_summarize_chain(llm,chain_type='map_reduce',map_prompt=map_prompt_template,\n",
    "                                     combine_prompt=final_prompt_template,verbose=True)\n",
    "output_summary = summary_chain.run(final_docs)"
   ]
  },
  {
   "cell_type": "code",
   "execution_count": 64,
   "id": "259e4dff",
   "metadata": {},
   "outputs": [
    {
     "data": {
      "text/plain": [
       "'##  From Complaining to Contributing: Building a Brighter India \\n\\nThis speech is a powerful call to action for every Indian citizen, urging them to move beyond mere criticism and actively contribute to the nation\\'s progress. Inspired by the aspirations of a young girl, the speaker paints a vision of a developed, strong, and free India, grounded in three core pillars:\\n\\n1. **Upholding Freedom:**  The speaker emphasizes India\\'s historical commitment to freedom, both for its own people and for the world. Protecting this fundamental value is paramount, ensuring India continues to be a beacon of liberty.\\n\\n2. **Embracing Development:** Moving beyond the label of \"developing,\" the speaker calls for a shift in mindset, recognizing India\\'s economic strides and demanding global recognition of its power and self-reliance.\\n\\n3. **Asserting Strength:**  The speaker stresses the need for India to become a formidable force on the global stage, both militarily and economically.  Strength, they argue, earns respect, and India must confidently claim its rightful place in the world.\\n\\nThe speech acknowledges the criticisms often leveled against India\\'s government, infrastructure, and services. However, it rejects negativity as a solution, urging Indians to embrace the spirit of John F. Kennedy\\'s call to service: \"Ask not what India can do for you, but what you can do for India.\"  \\n\\nThe speaker concludes with a story about collaborating with brilliant Indian scientists, highlighting the nation\\'s scientific and technological potential.  This serves as a powerful reminder that India possesses the talent and ingenuity to achieve its aspirations. \\n\\n\\nUltimately, the speech is a stirring call to action. It challenges Indians to stop complaining and start contributing, to move from passive observation to active participation in building a brighter future for their nation. \\n'"
      ]
     },
     "execution_count": 64,
     "metadata": {},
     "output_type": "execute_result"
    }
   ],
   "source": [
    "output_summary"
   ]
  },
  {
   "cell_type": "code",
   "execution_count": 65,
   "id": "35157b0b",
   "metadata": {},
   "outputs": [
    {
     "name": "stdout",
     "output_type": "stream",
     "text": [
      "\n",
      "\n",
      "\u001b[1m> Entering new RefineDocumentsChain chain...\u001b[0m\n",
      "\n",
      "\n",
      "\u001b[1m> Entering new LLMChain chain...\u001b[0m\n",
      "Prompt after formatting:\n",
      "\u001b[32;1m\u001b[1;3mWrite a concise summary of the following:\n",
      "\n",
      "\n",
      "\"I have three visions for India. In 3000 years of our history people from all over \n",
      "the world have come and invaded us, captured our lands, conquered our minds. From \n",
      "Alexander onwards the Greeks, the Turks, the Moguls, the Portuguese, the British, \n",
      "the French, the Dutch, all of them came and looted us, took over what was ours. Yet\n",
      "we have not done this to any other nation.\n",
      "We have not conquered anyone. We have not grabbed their land, their culture and \n",
      "their history and tried to enforce our way of life on them. Why? Because we respect\n",
      "the freedom of others. That is why my FIRST VISION is that of FREEDOM. I believe \n",
      "that India got its first vision of this in 1857, when we started the war of \n",
      "Independence. It is this freedom that we must protect and nurture and build on. If \n",
      "we are not free, no one will respect us.\n",
      "We have 10 percent growth rate in most areas. Our poverty levels are falling. Our \n",
      "achievements are being globally recognised today. Yet we lack the self-confidence \n",
      "to see ourselves as a developed nation, self-reliant and self-assured. Isn’t this \n",
      "incorrect? MY SECOND VISION for India is DEVELOPMENT. For fifty years we have been \n",
      "a developing nation. It is time we see ourselves as a developed nation. We are \n",
      "among top five nations in the world in terms of GDP.\n",
      "I have a THIRD VISION. India must stand up to the world. Because I believe that \n",
      "unless India stands up to the world, no one will respect us. Only strength respects\n",
      "strength. We must be strong not only as a military power but also as an economic \n",
      "power. Both must go hand-in-hand. My good fortune was to have worked with three \n",
      "great minds. Dr.Vikram Sarabhai, of the Dept. of Space, Professor Satish Dhawan, \n",
      "who succeeded him and Dr. Brahm Prakash, father of nuclear material. I was lucky to\n",
      "have worked with all three of them closely and consider this the great opportunity \n",
      "of my life.\n",
      "I was in Hyderabad giving this lecture, when a 14 year-old girl asked me for my\"\n",
      "\n",
      "\n",
      "CONCISE SUMMARY:\u001b[0m\n",
      "\n",
      "\u001b[1m> Finished chain.\u001b[0m\n",
      "\n",
      "\n",
      "\u001b[1m> Entering new LLMChain chain...\u001b[0m\n",
      "Prompt after formatting:\n",
      "\u001b[32;1m\u001b[1;3mYour job is to produce a final summary.\n",
      "We have provided an existing summary up to a certain point: The speaker outlines three visions for India: **freedom**, **development**, and **strength**. \n",
      "\n",
      "They emphasize India's history of non-aggression and the importance of protecting its freedom.  They argue that India, with its economic growth and global recognition, should see itself as a developed nation. Finally, they advocate for India to become a strong military and economic power to earn global respect.  The speaker draws on their experience working with renowned scientists to illustrate their point. \n",
      "\n",
      "\n",
      "\n",
      "We have the opportunity to refine the existing summary (only if needed) with some more context below.\n",
      "------------\n",
      "of my life.\n",
      "I was in Hyderabad giving this lecture, when a 14 year-old girl asked me for my \n",
      "autograph. I asked her what her goal in life is. She replied: I want to live in a \n",
      "developed India. For her, you and I will have to build this developed India. You \n",
      "must proclaim India is not an underdeveloped nation; it is a highly developed \n",
      "nation.\n",
      "You say that our government is inefficient. You say that our laws are too old. You \n",
      "say that the municipality does not pick up the garbage. You say that the phones \n",
      "don’t work, the railways are a joke, the airline is the worst in the world, and \n",
      "mails never reach their destination. You say that our country has been fed to the \n",
      "dogs and is the absolute pits. You say, say and say. What do you do about it?\n",
      "Dear Indians, I am echoing J.F.Kennedy’s words to his fellow Americans to relate to\n",
      "Indians ……. “ASK WHAT WE CAN DO FOR INDIA AND DO WHAT HAS TO BE DONE TO MAKE INDIA \n",
      "WHAT AMERICA AND OTHER WESTERN COUNTRIES ARE TODAY.”\n",
      "------------\n",
      "Given the new context, refine the original summary.\n",
      "If the context isn't useful, return the original summary.\u001b[0m\n",
      "\n",
      "\u001b[1m> Finished chain.\u001b[0m\n",
      "\n",
      "\u001b[1m> Finished chain.\u001b[0m\n"
     ]
    },
    {
     "data": {
      "text/plain": [
       "'The speaker outlines three visions for India: **freedom**, **development**, and **strength**. \\n\\nThey emphasize India\\'s history of non-aggression and the importance of protecting its freedom.  The speaker challenges the perception of India as \"underdeveloped,\" arguing that with its economic growth and global recognition, India should consider itself a developed nation and that citizens must take responsibility for its progress. They also advocate for India to become a strong military and economic power to earn global respect.  The speaker draws on their experience working with renowned scientists to illustrate their point, urging Indians to emulate the spirit of J.F. Kennedy\\'s call to action for Americans. \\n\\n\\n\\n'"
      ]
     },
     "execution_count": 65,
     "metadata": {},
     "output_type": "execute_result"
    }
   ],
   "source": [
    "# Refine chain summarization\n",
    "chain = load_summarize_chain(llm,\n",
    "                             chain_type='refine',\n",
    "                             verbose=True)\n",
    "op_summary = chain.run(final_docs)\n",
    "op_summary"
   ]
  }
 ],
 "metadata": {
  "kernelspec": {
   "display_name": "ai",
   "language": "python",
   "name": "python3"
  },
  "language_info": {
   "codemirror_mode": {
    "name": "ipython",
    "version": 3
   },
   "file_extension": ".py",
   "mimetype": "text/x-python",
   "name": "python",
   "nbconvert_exporter": "python",
   "pygments_lexer": "ipython3",
   "version": "3.12.3"
  }
 },
 "nbformat": 4,
 "nbformat_minor": 5
}
