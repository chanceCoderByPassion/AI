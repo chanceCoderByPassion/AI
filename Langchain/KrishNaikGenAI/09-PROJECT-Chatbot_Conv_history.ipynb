{
 "cells": [
  {
   "cell_type": "code",
   "execution_count": 1,
   "id": "459e405e",
   "metadata": {},
   "outputs": [],
   "source": [
    "import os\n",
    "from dotenv import load_dotenv\n",
    "load_dotenv()\n",
    "\n",
    "groq_api_key = os.getenv(\"GROQ_API_KEY\")"
   ]
  },
  {
   "cell_type": "code",
   "execution_count": 2,
   "id": "354d2092",
   "metadata": {},
   "outputs": [
    {
     "data": {
      "text/plain": [
       "ChatGroq(client=<groq.resources.chat.completions.Completions object at 0x0000029265BCC4A0>, async_client=<groq.resources.chat.completions.AsyncCompletions object at 0x0000029265BCD6A0>, model_name='Gemma2-9b-It', model_kwargs={}, groq_api_key=SecretStr('**********'))"
      ]
     },
     "execution_count": 2,
     "metadata": {},
     "output_type": "execute_result"
    }
   ],
   "source": [
    "from langchain_groq import ChatGroq\n",
    "model = ChatGroq(model=\"Gemma2-9b-It\",groq_api_key=groq_api_key)\n",
    "model"
   ]
  },
  {
   "cell_type": "code",
   "execution_count": 3,
   "id": "11885174",
   "metadata": {},
   "outputs": [
    {
     "data": {
      "text/plain": [
       "AIMessage(content=\"Hi Aakash, it's nice to meet you!\\n\\nThat's awesome that you're an AI engineer. What kind of projects are you working on?  \\n\\nI'm always interested to learn more about what people are doing in the field of AI.\\n\", additional_kwargs={}, response_metadata={'token_usage': {'completion_tokens': 59, 'prompt_tokens': 22, 'total_tokens': 81, 'completion_time': 0.107272727, 'prompt_time': 0.002127517, 'queue_time': 0.242674942, 'total_time': 0.109400244}, 'model_name': 'Gemma2-9b-It', 'system_fingerprint': 'fp_10c08bf97d', 'finish_reason': 'stop', 'logprobs': None}, id='run--35ab7ca5-e85b-4373-a906-a868c6daff40-0', usage_metadata={'input_tokens': 22, 'output_tokens': 59, 'total_tokens': 81})"
      ]
     },
     "execution_count": 3,
     "metadata": {},
     "output_type": "execute_result"
    }
   ],
   "source": [
    "from langchain_core.messages import HumanMessage,SystemMessage\n",
    "model.invoke([HumanMessage(content=\"Hi My name is Aakash and i am an AI engineer\")])"
   ]
  },
  {
   "cell_type": "code",
   "execution_count": 4,
   "id": "cd30b5bd",
   "metadata": {},
   "outputs": [
    {
     "data": {
      "text/plain": [
       "AIMessage(content=\"According to our conversation, your name is Aakash and you are an AI engineer. 😊 \\n\\nIs there anything else you'd like to talk about?  Maybe you could tell me more about your work as an AI engineer!\\n\", additional_kwargs={}, response_metadata={'token_usage': {'completion_tokens': 51, 'prompt_tokens': 78, 'total_tokens': 129, 'completion_time': 0.092727273, 'prompt_time': 0.003949164, 'queue_time': 0.252670496, 'total_time': 0.096676437}, 'model_name': 'Gemma2-9b-It', 'system_fingerprint': 'fp_10c08bf97d', 'finish_reason': 'stop', 'logprobs': None}, id='run--cfd8fbdd-12b5-441a-a226-047fa592b204-0', usage_metadata={'input_tokens': 78, 'output_tokens': 51, 'total_tokens': 129})"
      ]
     },
     "execution_count": 4,
     "metadata": {},
     "output_type": "execute_result"
    }
   ],
   "source": [
    "from langchain_core.messages import AIMessage\n",
    "model.invoke(\n",
    "    [\n",
    "        HumanMessage(content=\"Hi My name is Aakash and i am an AI engineer\"),\n",
    "        AIMessage(content=\"Hi Aakash, it's nice to meet you!\\n\\nThat's awesome that you're an AI engineer. What kind of projects are you working on?\"),\n",
    "        HumanMessage(content=\"Hey, whats my name and what do i do?\")\n",
    "    ]\n",
    ")"
   ]
  },
  {
   "cell_type": "markdown",
   "id": "6fa3ec46",
   "metadata": {},
   "source": [
    "## MESSAGE HISTORY"
   ]
  },
  {
   "cell_type": "code",
   "execution_count": 7,
   "id": "d5b6853a",
   "metadata": {},
   "outputs": [],
   "source": [
    "from langchain_community.chat_message_histories import ChatMessageHistory\n",
    "from langchain_core.chat_history import BaseChatMessageHistory\n",
    "from langchain_core.runnables.history import RunnableWithMessageHistory\n",
    "\n",
    "store = {}\n",
    "\n",
    "def get_session_history(session_id:str)->BaseChatMessageHistory:\n",
    "    if session_id not in store:\n",
    "        store[session_id]=ChatMessageHistory()\n",
    "    return store[session_id]\n",
    "with_message_history = RunnableWithMessageHistory(model,get_session_history)"
   ]
  },
  {
   "cell_type": "code",
   "execution_count": 8,
   "id": "1fc9c1a5",
   "metadata": {},
   "outputs": [],
   "source": [
    "config = {\"configurable\":{\"session_id\":\"chat1\"}}"
   ]
  },
  {
   "cell_type": "code",
   "execution_count": 10,
   "id": "dd107786",
   "metadata": {},
   "outputs": [],
   "source": [
    "response = with_message_history.invoke([HumanMessage(content=\"Hi My name is Aakash and i am an AI engineer\")],\n",
    "                            config=config)"
   ]
  },
  {
   "cell_type": "code",
   "execution_count": 11,
   "id": "e794a86e",
   "metadata": {},
   "outputs": [
    {
     "data": {
      "text/plain": [
       "\"Hi Aakash, it's great to meet you!  \\n\\nBeing an AI engineer is really exciting. What kind of projects are you working on right now? Are you focused on a particular area like natural language processing, computer vision, or something else?  \\n\\nI'm always curious to hear about the cool things people are building with AI. 😊\\n\""
      ]
     },
     "execution_count": 11,
     "metadata": {},
     "output_type": "execute_result"
    }
   ],
   "source": [
    "response.content"
   ]
  },
  {
   "cell_type": "code",
   "execution_count": null,
   "id": "890273ef",
   "metadata": {},
   "outputs": [],
   "source": [
    "# Change config --> change the session id\n",
    "config1 = {\"configurable\":{\"session_id\":\"chat2\"}}\n",
    "res = with_message_history.invoke([HumanMessage(content=\"whats my name\")],config=config1)\n",
    "res.content"
   ]
  }
 ],
 "metadata": {
  "kernelspec": {
   "display_name": "ai",
   "language": "python",
   "name": "python3"
  },
  "language_info": {
   "codemirror_mode": {
    "name": "ipython",
    "version": 3
   },
   "file_extension": ".py",
   "mimetype": "text/x-python",
   "name": "python",
   "nbconvert_exporter": "python",
   "pygments_lexer": "ipython3",
   "version": "3.12.3"
  }
 },
 "nbformat": 4,
 "nbformat_minor": 5
}
