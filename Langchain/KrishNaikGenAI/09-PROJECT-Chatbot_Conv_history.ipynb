{
 "cells": [
  {
   "cell_type": "code",
   "execution_count": 2,
   "id": "459e405e",
   "metadata": {},
   "outputs": [],
   "source": [
    "import os\n",
    "from dotenv import load_dotenv\n",
    "load_dotenv()\n",
    "\n",
    "groq_api_key = os.getenv(\"GROQ_API_KEY\")"
   ]
  },
  {
   "cell_type": "code",
   "execution_count": 3,
   "id": "354d2092",
   "metadata": {},
   "outputs": [
    {
     "data": {
      "text/plain": [
       "ChatGroq(client=<groq.resources.chat.completions.Completions object at 0x000001E0172018E0>, async_client=<groq.resources.chat.completions.AsyncCompletions object at 0x000001E017202A20>, model_name='Gemma2-9b-It', model_kwargs={}, groq_api_key=SecretStr('**********'))"
      ]
     },
     "execution_count": 3,
     "metadata": {},
     "output_type": "execute_result"
    }
   ],
   "source": [
    "from langchain_groq import ChatGroq\n",
    "model = ChatGroq(model=\"Gemma2-9b-It\",groq_api_key=groq_api_key)\n",
    "model"
   ]
  },
  {
   "cell_type": "code",
   "execution_count": 4,
   "id": "11885174",
   "metadata": {},
   "outputs": [
    {
     "data": {
      "text/plain": [
       "AIMessage(content=\"Hi Aakash,\\n\\nIt's nice to meet you!  As an AI, I don't have the pleasure of meeting people in the real world, so it's always interesting to connect with someone who works in the field of AI.\\n\\nWhat kind of AI engineering do you specialize in?  Are you working on any exciting projects right now?\\n\", additional_kwargs={}, response_metadata={'token_usage': {'completion_tokens': 77, 'prompt_tokens': 22, 'total_tokens': 99, 'completion_time': 0.14, 'prompt_time': 0.002128625, 'queue_time': 0.250406673, 'total_time': 0.142128625}, 'model_name': 'Gemma2-9b-It', 'system_fingerprint': 'fp_10c08bf97d', 'finish_reason': 'stop', 'logprobs': None}, id='run--714f5a0a-b01c-40cc-943f-4f89e0845b85-0', usage_metadata={'input_tokens': 22, 'output_tokens': 77, 'total_tokens': 99})"
      ]
     },
     "execution_count": 4,
     "metadata": {},
     "output_type": "execute_result"
    }
   ],
   "source": [
    "from langchain_core.messages import HumanMessage,SystemMessage\n",
    "model.invoke([HumanMessage(content=\"Hi My name is Aakash and i am an AI engineer\")])"
   ]
  },
  {
   "cell_type": "code",
   "execution_count": 5,
   "id": "cd30b5bd",
   "metadata": {},
   "outputs": [
    {
     "data": {
      "text/plain": [
       "AIMessage(content=\"You are Aakash, and you are an AI engineer.  \\n\\nIs there anything else you'd like to know or talk about? 😊  \\n\", additional_kwargs={}, response_metadata={'token_usage': {'completion_tokens': 34, 'prompt_tokens': 78, 'total_tokens': 112, 'completion_time': 0.061818182, 'prompt_time': 0.005280868, 'queue_time': 0.27750575, 'total_time': 0.06709905}, 'model_name': 'Gemma2-9b-It', 'system_fingerprint': 'fp_10c08bf97d', 'finish_reason': 'stop', 'logprobs': None}, id='run--41fedb20-230e-4282-9181-1434fed4c64e-0', usage_metadata={'input_tokens': 78, 'output_tokens': 34, 'total_tokens': 112})"
      ]
     },
     "execution_count": 5,
     "metadata": {},
     "output_type": "execute_result"
    }
   ],
   "source": [
    "from langchain_core.messages import AIMessage\n",
    "model.invoke(\n",
    "    [\n",
    "        HumanMessage(content=\"Hi My name is Aakash and i am an AI engineer\"),\n",
    "        AIMessage(content=\"Hi Aakash, it's nice to meet you!\\n\\nThat's awesome that you're an AI engineer. What kind of projects are you working on?\"),\n",
    "        HumanMessage(content=\"Hey, whats my name and what do i do?\")\n",
    "    ]\n",
    ")"
   ]
  },
  {
   "cell_type": "markdown",
   "id": "6fa3ec46",
   "metadata": {},
   "source": [
    "## MESSAGE HISTORY"
   ]
  },
  {
   "cell_type": "code",
   "execution_count": 6,
   "id": "d5b6853a",
   "metadata": {},
   "outputs": [],
   "source": [
    "from langchain_community.chat_message_histories import ChatMessageHistory\n",
    "from langchain_core.chat_history import BaseChatMessageHistory\n",
    "from langchain_core.runnables.history import RunnableWithMessageHistory\n",
    "\n",
    "store = {}\n",
    "\n",
    "def get_session_history(session_id:str)->BaseChatMessageHistory:\n",
    "    if session_id not in store:\n",
    "        store[session_id]=ChatMessageHistory()\n",
    "    return store[session_id]\n",
    "with_message_history = RunnableWithMessageHistory(model,get_session_history)"
   ]
  },
  {
   "cell_type": "code",
   "execution_count": 7,
   "id": "1fc9c1a5",
   "metadata": {},
   "outputs": [],
   "source": [
    "config = {\"configurable\":{\"session_id\":\"chat1\"}}"
   ]
  },
  {
   "cell_type": "code",
   "execution_count": 8,
   "id": "dd107786",
   "metadata": {},
   "outputs": [],
   "source": [
    "response = with_message_history.invoke([HumanMessage(content=\"Hi My name is Aakash and i am an AI engineer\")],\n",
    "                            config=config)"
   ]
  },
  {
   "cell_type": "code",
   "execution_count": 9,
   "id": "e794a86e",
   "metadata": {},
   "outputs": [
    {
     "data": {
      "text/plain": [
       "\"Hi Aakash, it's nice to meet you!\\n\\nThat's really cool! Being an AI engineer is fascinating.  \\n\\nWhat kind of AI projects are you working on? 🤖  I'm always eager to learn about what people are building in the field.\\n\""
      ]
     },
     "execution_count": 9,
     "metadata": {},
     "output_type": "execute_result"
    }
   ],
   "source": [
    "response.content"
   ]
  },
  {
   "cell_type": "code",
   "execution_count": 10,
   "id": "890273ef",
   "metadata": {},
   "outputs": [
    {
     "data": {
      "text/plain": [
       "\"As an AI, I have no memory of past conversations and do not know your name. If you'd like to tell me, I'd be happy to know! 😊\\n\""
      ]
     },
     "execution_count": 10,
     "metadata": {},
     "output_type": "execute_result"
    }
   ],
   "source": [
    "# Change config --> change the session id\n",
    "config1 = {\"configurable\":{\"session_id\":\"chat2\"}}\n",
    "res = with_message_history.invoke([HumanMessage(content=\"whats my name\")],config=config1)\n",
    "res.content"
   ]
  },
  {
   "cell_type": "markdown",
   "id": "f00ad9e9",
   "metadata": {},
   "source": [
    "### PROMPT TEMPLATES\n"
   ]
  },
  {
   "cell_type": "code",
   "execution_count": 11,
   "id": "f6d5b7e7",
   "metadata": {},
   "outputs": [],
   "source": [
    "from langchain_core.prompts import ChatPromptTemplate,MessagesPlaceholder\n",
    "\n",
    "prompt = ChatPromptTemplate.from_messages(\n",
    "    [\n",
    "        (\"system\",\"You are a helpful assistant.Answer all questions to best of your ability\"),\n",
    "        MessagesPlaceholder(variable_name=\"messages\")\n",
    "    ]\n",
    ")\n",
    "\n",
    "chain = prompt|model"
   ]
  },
  {
   "cell_type": "code",
   "execution_count": 12,
   "id": "b0aea2c6",
   "metadata": {},
   "outputs": [
    {
     "data": {
      "text/plain": [
       "AIMessage(content=\"Hi Aakash, it's nice to meet you!  \\n\\nWhat can I help you with today? 😊  \\n\\n\", additional_kwargs={}, response_metadata={'token_usage': {'completion_tokens': 29, 'prompt_tokens': 30, 'total_tokens': 59, 'completion_time': 0.052727273, 'prompt_time': 0.002334575, 'queue_time': 0.242335845, 'total_time': 0.055061848}, 'model_name': 'Gemma2-9b-It', 'system_fingerprint': 'fp_10c08bf97d', 'finish_reason': 'stop', 'logprobs': None}, id='run--a47ec983-bdba-458b-a7a0-7e62b9bcc130-0', usage_metadata={'input_tokens': 30, 'output_tokens': 29, 'total_tokens': 59})"
      ]
     },
     "execution_count": 12,
     "metadata": {},
     "output_type": "execute_result"
    }
   ],
   "source": [
    "chain.invoke({\"messages\":[HumanMessage(content=\"Hi my name is Aakash\")]})"
   ]
  },
  {
   "cell_type": "code",
   "execution_count": 13,
   "id": "77d0fb35",
   "metadata": {},
   "outputs": [],
   "source": [
    "with_message_history = RunnableWithMessageHistory(chain,get_session_history)"
   ]
  },
  {
   "cell_type": "code",
   "execution_count": 14,
   "id": "9a195a2d",
   "metadata": {},
   "outputs": [
    {
     "data": {
      "text/plain": [
       "AIMessage(content=\"Hello Aakash, it's nice to meet you!\\n\\nHow can I help you today?  😊  \\n\", additional_kwargs={}, response_metadata={'token_usage': {'completion_tokens': 27, 'prompt_tokens': 30, 'total_tokens': 57, 'completion_time': 0.049090909, 'prompt_time': 0.002132145, 'queue_time': 0.251602824, 'total_time': 0.051223054}, 'model_name': 'Gemma2-9b-It', 'system_fingerprint': 'fp_10c08bf97d', 'finish_reason': 'stop', 'logprobs': None}, id='run--d02ca7bc-ec7e-46ba-8a68-8ef81285267f-0', usage_metadata={'input_tokens': 30, 'output_tokens': 27, 'total_tokens': 57})"
      ]
     },
     "execution_count": 14,
     "metadata": {},
     "output_type": "execute_result"
    }
   ],
   "source": [
    "config = {\"configurable\":{\"session_id\":\"chat3\"}}\n",
    "response = with_message_history.invoke([HumanMessage(content=\"Hi My name is Aakash\")],config = config)\n",
    "\n",
    "response"
   ]
  },
  {
   "cell_type": "code",
   "execution_count": 15,
   "id": "5a0874c5",
   "metadata": {},
   "outputs": [],
   "source": [
    "prompt = ChatPromptTemplate.from_messages(\n",
    "    [\n",
    "        (\"system\",\"You are a helpful assistant.Answer all questions to best of your ability in {language}\"),\n",
    "        MessagesPlaceholder(variable_name=\"messages\")\n",
    "    ]\n",
    ")\n",
    "chain = prompt|model"
   ]
  },
  {
   "cell_type": "code",
   "execution_count": 16,
   "id": "3e748c9e",
   "metadata": {},
   "outputs": [
    {
     "data": {
      "text/plain": [
       "'नमस्ते आकाश!  😊 \\n\\nमैं आपकी मदद करने के लिए तैयार हूँ। आपके कोई सवाल हैं? \\n'"
      ]
     },
     "execution_count": 16,
     "metadata": {},
     "output_type": "execute_result"
    }
   ],
   "source": [
    "response = chain.invoke({\"messages\":[HumanMessage(content=\"Hi my name is Aakash\")],\"language\":\"Hindi\"})\n",
    "response.content"
   ]
  },
  {
   "cell_type": "code",
   "execution_count": 17,
   "id": "f5dfc6dc",
   "metadata": {},
   "outputs": [],
   "source": [
    "with_message_history = RunnableWithMessageHistory(chain,get_session_history,input_messages_key=\"messages\")"
   ]
  },
  {
   "cell_type": "code",
   "execution_count": 18,
   "id": "a0d8eaef",
   "metadata": {},
   "outputs": [
    {
     "data": {
      "text/plain": [
       "AIMessage(content='नमस्ते अकाश! 👋  \\n\\nमुझे बहुत खुशी है कि आपने मुझसे बातचीत शुरू की!  😊 \\n\\nआपके सवालों के जवाब देने में मैं अपनी पूरी कोशिश करूँगा।  \\n\\nआप मुझे क्या पूछना चाहते हैं? 🤔 \\n\\n', additional_kwargs={}, response_metadata={'token_usage': {'completion_tokens': 71, 'prompt_tokens': 32, 'total_tokens': 103, 'completion_time': 0.129090909, 'prompt_time': 0.004617409, 'queue_time': 0.262637001, 'total_time': 0.133708318}, 'model_name': 'Gemma2-9b-It', 'system_fingerprint': 'fp_10c08bf97d', 'finish_reason': 'stop', 'logprobs': None}, id='run--b978558b-357b-467b-9777-ea087eed6237-0', usage_metadata={'input_tokens': 32, 'output_tokens': 71, 'total_tokens': 103})"
      ]
     },
     "execution_count": 18,
     "metadata": {},
     "output_type": "execute_result"
    }
   ],
   "source": [
    "config = {\"configurable\":{\"session_id\":\"chat4\"}}\n",
    "response = with_message_history.invoke({\"messages\":[HumanMessage(content=\"Hi My name is Aakash\")],\n",
    "                                       \"language\":\"hindi\"},\n",
    "                                       config = config)\n",
    "\n",
    "response"
   ]
  },
  {
   "cell_type": "markdown",
   "id": "3dfd3875",
   "metadata": {},
   "source": [
    "### MANAGE THE SIZE OF CONVERSATION HISTORY\n"
   ]
  },
  {
   "cell_type": "code",
   "execution_count": 24,
   "id": "319c4103",
   "metadata": {},
   "outputs": [],
   "source": [
    "from langchain_core.messages import SystemMessage,trim_messages\n",
    "trimmer = trim_messages(\n",
    "    max_tokens=45,\n",
    "    strategy=\"last\",\n",
    "    token_counter=model,\n",
    "    include_system=True,\n",
    "    allow_partial=False,\n",
    "    start_on=\"human\"\n",
    ")"
   ]
  },
  {
   "cell_type": "code",
   "execution_count": 25,
   "id": "c2a59d0e",
   "metadata": {},
   "outputs": [
    {
     "data": {
      "text/plain": [
       "[SystemMessage(content='you are a good assistant', additional_kwargs={}, response_metadata={}),\n",
       " HumanMessage(content='I like vanilla icecream', additional_kwargs={}, response_metadata={}),\n",
       " AIMessage(content='nice', additional_kwargs={}, response_metadata={}),\n",
       " HumanMessage(content='whats 2 + 2', additional_kwargs={}, response_metadata={}),\n",
       " AIMessage(content='4', additional_kwargs={}, response_metadata={}),\n",
       " HumanMessage(content='thanks', additional_kwargs={}, response_metadata={}),\n",
       " AIMessage(content='no problem!', additional_kwargs={}, response_metadata={}),\n",
       " HumanMessage(content='having fun?', additional_kwargs={}, response_metadata={}),\n",
       " AIMessage(content='yes!', additional_kwargs={}, response_metadata={})]"
      ]
     },
     "execution_count": 25,
     "metadata": {},
     "output_type": "execute_result"
    }
   ],
   "source": [
    "messages = [\n",
    "    SystemMessage(content=\"you are a good assistant\"),\n",
    "    HumanMessage(content=\"Hi i am aakash\"),\n",
    "    AIMessage(content=\"Hi!\"),\n",
    "    HumanMessage(content=\"I like vanilla icecream\"),\n",
    "    AIMessage(content=\"nice\"),\n",
    "    HumanMessage(content=\"whats 2 + 2\"),\n",
    "    AIMessage(content=\"4\"),\n",
    "    HumanMessage(content=\"thanks\"),\n",
    "    AIMessage(content=\"no problem!\"),\n",
    "    HumanMessage(content=\"having fun?\"),\n",
    "    AIMessage(content=\"yes!\"),\n",
    "    \n",
    "]\n",
    "\n",
    "trimmer.invoke(messages)"
   ]
  },
  {
   "cell_type": "code",
   "execution_count": 29,
   "id": "954d6028",
   "metadata": {},
   "outputs": [
    {
     "data": {
      "text/plain": [
       "'You asked me \"what\\'s 2 + 2\".  \\n\\n\\n\\nDo you want to try another one? 😄 \\n'"
      ]
     },
     "execution_count": 29,
     "metadata": {},
     "output_type": "execute_result"
    }
   ],
   "source": [
    "from operator import itemgetter\n",
    "from langchain_core.runnables import RunnablePassthrough\n",
    "\n",
    "chain = (\n",
    "    RunnablePassthrough.assign(messages=itemgetter(\"messages\")|trimmer)\n",
    "    |prompt\n",
    "    |model\n",
    ")\n",
    "\n",
    "res = chain.invoke(\n",
    "    {\n",
    "    \"messages\":messages + [HumanMessage(content=\"what math problem i asked?\")],\n",
    "    \"language\":\"english\",\n",
    "    }\n",
    ")\n",
    "res.content"
   ]
  },
  {
   "cell_type": "code",
   "execution_count": 30,
   "id": "81b55ea5",
   "metadata": {},
   "outputs": [],
   "source": [
    "# WRAP in message history\n",
    "\n",
    "with_mesage_history = RunnableWithMessageHistory(\n",
    "    chain,\n",
    "    get_session_history,\n",
    "    input_messages_key=\"messages\"\n",
    ")\n",
    "config = {\"configurable\":{\"session_id\":\"chat5\"}}"
   ]
  },
  {
   "cell_type": "code",
   "execution_count": 31,
   "id": "52665f5f",
   "metadata": {},
   "outputs": [],
   "source": [
    "response = with_message_history.invoke(\n",
    "    {\n",
    "        \"messages\":messages + [HumanMessage(content=\"Whats my name?\")],\n",
    "        \"language\":\"English\",\n",
    "    },\n",
    "    config = config\n",
    ")"
   ]
  },
  {
   "cell_type": "code",
   "execution_count": 32,
   "id": "31b924d2",
   "metadata": {},
   "outputs": [
    {
     "data": {
      "text/plain": [
       "'Your name is Aakash.  😊'"
      ]
     },
     "execution_count": 32,
     "metadata": {},
     "output_type": "execute_result"
    }
   ],
   "source": [
    "response.content"
   ]
  },
  {
   "cell_type": "markdown",
   "id": "f5a9c1ed",
   "metadata": {},
   "source": [
    "### VECTOR STORES AND RETRIEVERS"
   ]
  },
  {
   "cell_type": "code",
   "execution_count": 33,
   "id": "097e1ec3",
   "metadata": {},
   "outputs": [],
   "source": [
    "from langchain_core.documents import Document\n",
    "\n",
    "documents = [\n",
    "    Document(\n",
    "        page_content=\"Dogs are great companions, known for their loyalty and friendliness\",\n",
    "        metadata={\"source\":\"mammal-pets-doc\"},\n",
    "    ),\n",
    "    Document(\n",
    "        page_content=\"Cats are independent pets that often enjoy their own space\",\n",
    "        metadata={\"source\":\"mammal-pets-doc\"},\n",
    "    ),\n",
    "    Document(\n",
    "        page_content=\"Goldfish are popular pets for beginners,requiring relatively simple care\",\n",
    "        metadata={\"source\":\"mammal-pets-doc\"},\n",
    "    ),\n",
    "    Document(\n",
    "        page_content=\"Parrots are intelligent birds capable of mimicking human speech\",\n",
    "        metadata={\"source\":\"mammal-pets-doc\"},\n",
    "    ),\n",
    "]"
   ]
  },
  {
   "cell_type": "code",
   "execution_count": 34,
   "id": "0f374a9d",
   "metadata": {},
   "outputs": [
    {
     "data": {
      "text/plain": [
       "[Document(metadata={'source': 'mammal-pets-doc'}, page_content='Dogs are great companions, known for their loyalty and friendliness'),\n",
       " Document(metadata={'source': 'mammal-pets-doc'}, page_content='Cats are independent pets that often enjoy their own space'),\n",
       " Document(metadata={'source': 'mammal-pets-doc'}, page_content='Goldfish are popular pets for beginners,requiring relatively simple care'),\n",
       " Document(metadata={'source': 'mammal-pets-doc'}, page_content='Parrots are intelligent birds capable of mimicking human speech')]"
      ]
     },
     "execution_count": 34,
     "metadata": {},
     "output_type": "execute_result"
    }
   ],
   "source": [
    "documents"
   ]
  },
  {
   "cell_type": "code",
   "execution_count": 36,
   "id": "f2a49460",
   "metadata": {},
   "outputs": [
    {
     "data": {
      "text/plain": [
       "ChatGroq(client=<groq.resources.chat.completions.Completions object at 0x000001E024DEB950>, async_client=<groq.resources.chat.completions.AsyncCompletions object at 0x000001E024DA6120>, model_name='Llama3-8b-8192', model_kwargs={}, groq_api_key=SecretStr('**********'))"
      ]
     },
     "execution_count": 36,
     "metadata": {},
     "output_type": "execute_result"
    }
   ],
   "source": [
    "import os \n",
    "from dotenv import load_dotenv\n",
    "from langchain_groq import ChatGroq\n",
    "load_dotenv()\n",
    "groq_api_key = os.getenv(\"GROQ_API_KEY\")\n",
    "os.environ[\"HF_TOKEN\"] = os.getenv(\"HF_TOKEN\")\n",
    "llm = ChatGroq(groq_api_key=groq_api_key,model=\"Llama3-8b-8192\")\n",
    "llm"
   ]
  },
  {
   "cell_type": "code",
   "execution_count": 37,
   "id": "fcad93e3",
   "metadata": {},
   "outputs": [],
   "source": [
    "from langchain_huggingface import HuggingFaceEmbeddings\n",
    "embeddings=HuggingFaceEmbeddings(model_name=\"all-MiniLM-L6-v2\")"
   ]
  },
  {
   "cell_type": "code",
   "execution_count": 38,
   "id": "2df9c40c",
   "metadata": {},
   "outputs": [
    {
     "data": {
      "text/plain": [
       "<langchain_chroma.vectorstores.Chroma at 0x1e024ed0050>"
      ]
     },
     "execution_count": 38,
     "metadata": {},
     "output_type": "execute_result"
    }
   ],
   "source": [
    "from langchain_chroma import Chroma\n",
    "vectorstore = Chroma.from_documents(documents,embedding=embeddings)\n",
    "vectorstore"
   ]
  },
  {
   "cell_type": "code",
   "execution_count": 39,
   "id": "e794b6f9",
   "metadata": {},
   "outputs": [
    {
     "data": {
      "text/plain": [
       "[Document(id='11d18ef9-022e-4438-9114-e9354feab2f7', metadata={'source': 'mammal-pets-doc'}, page_content='Cats are independent pets that often enjoy their own space'),\n",
       " Document(id='13360e1a-d627-4071-853d-8724160669ca', metadata={'source': 'mammal-pets-doc'}, page_content='Dogs are great companions, known for their loyalty and friendliness'),\n",
       " Document(id='780a29c8-b1fd-49b7-8d22-fa10cad3afd9', metadata={'source': 'mammal-pets-doc'}, page_content='Parrots are intelligent birds capable of mimicking human speech'),\n",
       " Document(id='185bc0c6-44ab-4243-8444-03d125b363a8', metadata={'source': 'mammal-pets-doc'}, page_content='Goldfish are popular pets for beginners,requiring relatively simple care')]"
      ]
     },
     "execution_count": 39,
     "metadata": {},
     "output_type": "execute_result"
    }
   ],
   "source": [
    "vectorstore.similarity_search(\"Cat\")"
   ]
  },
  {
   "cell_type": "code",
   "execution_count": 40,
   "id": "593aa164",
   "metadata": {},
   "outputs": [
    {
     "data": {
      "text/plain": [
       "[Document(id='11d18ef9-022e-4438-9114-e9354feab2f7', metadata={'source': 'mammal-pets-doc'}, page_content='Cats are independent pets that often enjoy their own space'),\n",
       " Document(id='13360e1a-d627-4071-853d-8724160669ca', metadata={'source': 'mammal-pets-doc'}, page_content='Dogs are great companions, known for their loyalty and friendliness'),\n",
       " Document(id='780a29c8-b1fd-49b7-8d22-fa10cad3afd9', metadata={'source': 'mammal-pets-doc'}, page_content='Parrots are intelligent birds capable of mimicking human speech'),\n",
       " Document(id='185bc0c6-44ab-4243-8444-03d125b363a8', metadata={'source': 'mammal-pets-doc'}, page_content='Goldfish are popular pets for beginners,requiring relatively simple care')]"
      ]
     },
     "execution_count": 40,
     "metadata": {},
     "output_type": "execute_result"
    }
   ],
   "source": [
    "await vectorstore.asimilarity_search(\"Cat\")"
   ]
  },
  {
   "cell_type": "code",
   "execution_count": 42,
   "id": "9f215bf2",
   "metadata": {},
   "outputs": [
    {
     "data": {
      "text/plain": [
       "[(Document(id='11d18ef9-022e-4438-9114-e9354feab2f7', metadata={'source': 'mammal-pets-doc'}, page_content='Cats are independent pets that often enjoy their own space'),\n",
       "  0.9436445236206055),\n",
       " (Document(id='13360e1a-d627-4071-853d-8724160669ca', metadata={'source': 'mammal-pets-doc'}, page_content='Dogs are great companions, known for their loyalty and friendliness'),\n",
       "  1.5413694381713867),\n",
       " (Document(id='780a29c8-b1fd-49b7-8d22-fa10cad3afd9', metadata={'source': 'mammal-pets-doc'}, page_content='Parrots are intelligent birds capable of mimicking human speech'),\n",
       "  1.6284856796264648),\n",
       " (Document(id='185bc0c6-44ab-4243-8444-03d125b363a8', metadata={'source': 'mammal-pets-doc'}, page_content='Goldfish are popular pets for beginners,requiring relatively simple care'),\n",
       "  1.7496695518493652)]"
      ]
     },
     "execution_count": 42,
     "metadata": {},
     "output_type": "execute_result"
    }
   ],
   "source": [
    "vectorstore.similarity_search_with_score(\"Cat\")"
   ]
  },
  {
   "cell_type": "markdown",
   "id": "7482101b",
   "metadata": {},
   "source": [
    "### Retrievers"
   ]
  },
  {
   "cell_type": "markdown",
   "id": "58d485ee",
   "metadata": {},
   "source": [
    "#### TECHNIQUE 1"
   ]
  },
  {
   "cell_type": "code",
   "execution_count": 44,
   "id": "511383cd",
   "metadata": {},
   "outputs": [
    {
     "data": {
      "text/plain": [
       "[[Document(id='11d18ef9-022e-4438-9114-e9354feab2f7', metadata={'source': 'mammal-pets-doc'}, page_content='Cats are independent pets that often enjoy their own space')],\n",
       " [Document(id='13360e1a-d627-4071-853d-8724160669ca', metadata={'source': 'mammal-pets-doc'}, page_content='Dogs are great companions, known for their loyalty and friendliness')]]"
      ]
     },
     "execution_count": 44,
     "metadata": {},
     "output_type": "execute_result"
    }
   ],
   "source": [
    "from typing import List\n",
    "from langchain_core.documents import Document\n",
    "from langchain_core.runnables import RunnableLambda\n",
    "\n",
    "retriever = RunnableLambda(vectorstore.similarity_search).bind(k=1)\n",
    "retriever.batch([\"Cat\",\"Dog\"])"
   ]
  },
  {
   "cell_type": "markdown",
   "id": "9eeccfa1",
   "metadata": {},
   "source": [
    "#### TECHNIQUE 2"
   ]
  },
  {
   "cell_type": "code",
   "execution_count": 45,
   "id": "2a32b356",
   "metadata": {},
   "outputs": [
    {
     "data": {
      "text/plain": [
       "[[Document(id='11d18ef9-022e-4438-9114-e9354feab2f7', metadata={'source': 'mammal-pets-doc'}, page_content='Cats are independent pets that often enjoy their own space')],\n",
       " [Document(id='13360e1a-d627-4071-853d-8724160669ca', metadata={'source': 'mammal-pets-doc'}, page_content='Dogs are great companions, known for their loyalty and friendliness')]]"
      ]
     },
     "execution_count": 45,
     "metadata": {},
     "output_type": "execute_result"
    }
   ],
   "source": [
    "retriever = vectorstore.as_retriever(\n",
    "    search_type=\"similarity\",\n",
    "    search_kwargs={\"k\":1},\n",
    ")\n",
    "retriever.batch([\"Cat\",\"Dog\"])"
   ]
  },
  {
   "cell_type": "code",
   "execution_count": 46,
   "id": "dacfc1a9",
   "metadata": {},
   "outputs": [
    {
     "data": {
      "text/plain": [
       "'According to the provided context, dogs are great companions, known for their loyalty and friendliness.'"
      ]
     },
     "execution_count": 46,
     "metadata": {},
     "output_type": "execute_result"
    }
   ],
   "source": [
    "from langchain_core.prompts import ChatPromptTemplate\n",
    "from langchain_core.runnables import RunnablePassthrough\n",
    "\n",
    "message = \"\"\"\n",
    "Answer this question using the provided context only.\n",
    "{question}\n",
    "Context:\n",
    "{context}\n",
    "\"\"\"\n",
    "\n",
    "prompt = ChatPromptTemplate.from_messages([(\"human\",message)])\n",
    "rag_chain = {\"context\":retriever,\"question\":RunnablePassthrough()}|prompt|llm\n",
    "\n",
    "response = rag_chain.invoke(\"tell me about dogs\")\n",
    "response.content"
   ]
  }
 ],
 "metadata": {
  "kernelspec": {
   "display_name": "ai",
   "language": "python",
   "name": "python3"
  },
  "language_info": {
   "codemirror_mode": {
    "name": "ipython",
    "version": 3
   },
   "file_extension": ".py",
   "mimetype": "text/x-python",
   "name": "python",
   "nbconvert_exporter": "python",
   "pygments_lexer": "ipython3",
   "version": "3.12.3"
  }
 },
 "nbformat": 4,
 "nbformat_minor": 5
}
