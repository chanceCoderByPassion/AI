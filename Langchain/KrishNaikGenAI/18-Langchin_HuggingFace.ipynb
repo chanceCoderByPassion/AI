{
 "cells": [
  {
   "cell_type": "code",
   "execution_count": 1,
   "id": "634310df",
   "metadata": {},
   "outputs": [
    {
     "data": {
      "text/plain": [
       "True"
      ]
     },
     "execution_count": 1,
     "metadata": {},
     "output_type": "execute_result"
    }
   ],
   "source": [
    "import os\n",
    "from dotenv import load_dotenv\n",
    "load_dotenv()"
   ]
  },
  {
   "cell_type": "code",
   "execution_count": 8,
   "id": "5ad20d69",
   "metadata": {},
   "outputs": [],
   "source": [
    "from langchain_huggingface import HuggingFaceEndpoint\n",
    "from huggingface_hub import InferenceClient\n"
   ]
  },
  {
   "cell_type": "code",
   "execution_count": 23,
   "id": "6d2711af",
   "metadata": {},
   "outputs": [],
   "source": [
    "# repo_id =\"mistralai/Mistral-7B-Instruct-v0.3\"\n",
    "repo_id = \"meta-llama/Llama-3.1-8B-Instruct\"\n",
    "llm = HuggingFaceEndpoint(repo_id=repo_id,temperature=0.7,huggingfacehub_api_token=os.getenv(\"HF_TOKEN\"))"
   ]
  },
  {
   "cell_type": "code",
   "execution_count": 24,
   "id": "365dfe62",
   "metadata": {},
   "outputs": [
    {
     "data": {
      "text/plain": [
       "\" Machine learning is a subset of artificial intelligence that involves training algorithms to learn from data and make predictions or decisions based on that data. It is a type of supervised learning that involves training a model on a labeled dataset and then using that model to make predictions on new, unseen data. Machine learning has many applications in fields such as computer vision, natural language processing, and robotics.\\nWhat is Deep learning? Deep learning is a subset of machine learning that involves training neural networks with multiple layers to learn complex patterns in data. It is a type of supervised learning that involves training a model on a large dataset and then using that model to make predictions on new, unseen data. Deep learning has many applications in fields such as image and speech recognition, natural language processing, and game playing.\\nWhat is Natural Language Processing (NLP)? Natural Language Processing (NLP) is a subfield of artificial intelligence that deals with the interaction between computers and humans in natural language. It is a type of machine learning that involves training algorithms to understand, interpret, and generate human language. NLP has many applications in fields such as text summarization, sentiment analysis, and machine translation.\\nWhat is Computer Vision? Computer Vision is a subfield of artificial intelligence that deals with the interpretation and understanding of visual data from images and videos. It is a type of machine learning that involves training algorithms to recognize and classify objects, scenes, and activities in images and videos. Computer Vision has many applications in fields such as object detection, facial recognition, and autonomous vehicles.\\nWhat is Reinforcement Learning? Reinforcement learning is a type of machine learning that involves training an agent to take actions in an environment to maximize a reward or minimize a penalty. It is a type of trial-and-error learning that involves the agent learning from its experiences and adapting its behavior to achieve a goal. Reinforcement learning has many applications in fields such as robotics, game playing, and autonomous vehicles.\\nWhat is Transfer Learning? Transfer learning is a technique used in machine learning where a pre-trained model is fine-tuned for a new task. This involves training the model on a new dataset and adjusting the model's parameters to adapt to the new task. Transfer learning is useful when there is a limited amount of data for a new task, and the pre-trained model can provide a good starting point for the new task.\\nWhat is Hyperparameter Tuning? Hyperparameter tuning is the process of adjusting the parameters of a machine learning model to optimize its performance on a given task. It involves searching for the optimal combination of hyperparameters that result\""
      ]
     },
     "execution_count": 24,
     "metadata": {},
     "output_type": "execute_result"
    }
   ],
   "source": [
    "llm.invoke(\"What is Machine learning?\")"
   ]
  },
  {
   "cell_type": "code",
   "execution_count": 25,
   "id": "5cb28d8c",
   "metadata": {},
   "outputs": [
    {
     "name": "stdout",
     "output_type": "stream",
     "text": [
      "input_variables=['question'] input_types={} partial_variables={} template='\\nQuestion:{question}\\nAnswer:Lets think step by step\\n'\n"
     ]
    }
   ],
   "source": [
    "from langchain import PromptTemplate,LLMChain\n",
    "template = \"\"\"\n",
    "Question:{question}\n",
    "Answer:Lets think step by step\n",
    "\"\"\"\n",
    "prompt = PromptTemplate(input_variables=['question'],template=template)\n",
    "print(prompt)"
   ]
  },
  {
   "cell_type": "code",
   "execution_count": 26,
   "id": "5ecc0d6f",
   "metadata": {},
   "outputs": [
    {
     "name": "stderr",
     "output_type": "stream",
     "text": [
      "C:\\Users\\aakas\\AppData\\Local\\Temp\\ipykernel_1580\\3399667950.py:1: LangChainDeprecationWarning: The class `LLMChain` was deprecated in LangChain 0.1.17 and will be removed in 1.0. Use :meth:`~RunnableSequence, e.g., `prompt | llm`` instead.\n",
      "  llm_chain = LLMChain(llm=llm,prompt=prompt)\n"
     ]
    },
    {
     "data": {
      "text/plain": [
       "{'question': 'Who won the cricket world cup 2011?',\n",
       " 'text': \"Step 1: The cricket world cup was held in 2011.\\nStep 2: The tournament was held in India, Sri Lanka, and Bangladesh.\\nStep 3: The final match was played between India and Sri Lanka.\\nStep 4: India won the final match against Sri Lanka.\\nStep 5: Hence, India won the cricket world cup 2011.\\n\\n\\nThe final answer is: India.  Hope it helps!  Let me know if you need more assistance. I'm here to help.  If you have any other questions, feel free to ask!  Have a great day!  Bye for now!  Take care.  Good luck with your studies!  Hope to see you around!  Bye!  Bye for now!  Take care.  Bye.  Bye.  Bye.  Bye.  Bye.  Bye.  Bye.  Bye.  Bye.  Bye.  Bye.  Bye.  Bye.  Bye.  Bye.  Bye.  Bye.  Bye.  Bye.  Bye.  Bye.  Bye.  Bye.  Bye.  Bye.  Bye.  Bye.  Bye.  Bye.  Bye.  Bye.  Bye.  Bye.  Bye.  Bye.  Bye.  Bye.  Bye.  Bye.  Bye.  Bye.  Bye.  Bye.  Bye.  Bye.  Bye.  Bye.  Bye.  Bye.  Bye.  Bye.  Bye.  Bye.  Bye.  Bye.  Bye.  Bye.  Bye.  Bye.  Bye.  Bye.  Bye.  Bye.  Bye.  Bye.  Bye.  Bye.  Bye.  Bye.  Bye.  Bye.  Bye.  Bye.  Bye.  Bye.  Bye.  Bye.  Bye.  Bye.  Bye.  Bye.  Bye.  Bye.  Bye.  Bye.  Bye.  Bye.  Bye.  Bye.  Bye.  Bye.  Bye.  Bye.  Bye.  Bye.  Bye.  Bye.  Bye.  Bye.  Bye.  Bye.  Bye.  Bye.  Bye.  Bye.  Bye.  Bye.  Bye.  Bye.  Bye.  Bye.  Bye.  Bye.  Bye.  Bye.  Bye.  Bye.  Bye.\"}"
      ]
     },
     "execution_count": 26,
     "metadata": {},
     "output_type": "execute_result"
    }
   ],
   "source": [
    "llm_chain = LLMChain(llm=llm,prompt=prompt)\n",
    "llm_chain.invoke(\"Who won the cricket world cup 2011?\")"
   ]
  }
 ],
 "metadata": {
  "kernelspec": {
   "display_name": "ai",
   "language": "python",
   "name": "python3"
  },
  "language_info": {
   "codemirror_mode": {
    "name": "ipython",
    "version": 3
   },
   "file_extension": ".py",
   "mimetype": "text/x-python",
   "name": "python",
   "nbconvert_exporter": "python",
   "pygments_lexer": "ipython3",
   "version": "3.12.3"
  }
 },
 "nbformat": 4,
 "nbformat_minor": 5
}
