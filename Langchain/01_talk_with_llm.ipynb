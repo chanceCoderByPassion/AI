{
 "cells": [
  {
   "cell_type": "code",
   "execution_count": 5,
   "metadata": {},
   "outputs": [
    {
     "name": "stdout",
     "output_type": "stream",
     "text": [
      "check\n"
     ]
    }
   ],
   "source": [
    "print(\"check\")"
   ]
  },
  {
   "cell_type": "code",
   "execution_count": 6,
   "metadata": {},
   "outputs": [],
   "source": [
    "import os\n",
    "from dotenv import load_dotenv,find_dotenv\n",
    "_ = load_dotenv(find_dotenv())\n",
    "openai_api_key = os.environ[\"OPENAI_API_KEY\"]"
   ]
  },
  {
   "cell_type": "code",
   "execution_count": 7,
   "metadata": {},
   "outputs": [],
   "source": [
    "# Completion Model\n",
    "from langchain_openai import OpenAI\n",
    "llmModel = OpenAI()"
   ]
  },
  {
   "cell_type": "code",
   "execution_count": null,
   "metadata": {},
   "outputs": [],
   "source": [
    "response = llmModel.invoke(\"Tell me one fun fact about Kennedy Family\")"
   ]
  },
  {
   "cell_type": "code",
   "execution_count": null,
   "metadata": {},
   "outputs": [],
   "source": [
    "print(response)"
   ]
  },
  {
   "cell_type": "code",
   "execution_count": null,
   "metadata": {},
   "outputs": [],
   "source": [
    "for chunk in llmModel.stream(\"Tell me one fun fact about Kennedy Family\"):\n",
    "    print(chunk,end=\"\",flush=True)"
   ]
  },
  {
   "cell_type": "code",
   "execution_count": null,
   "metadata": {},
   "outputs": [],
   "source": [
    "creativeLlmModel = OpenAI(temperature=0.9)"
   ]
  },
  {
   "cell_type": "code",
   "execution_count": null,
   "metadata": {},
   "outputs": [],
   "source": [
    "# CHAT Model\n",
    "from langchain_openai import ChatOpenAI\n",
    "chatModel = ChatOpenAI(model=\"gpt-3.5-turbo-0125\")"
   ]
  },
  {
   "cell_type": "code",
   "execution_count": null,
   "metadata": {},
   "outputs": [],
   "source": [
    "messages = [\n",
    "    (\"system\",\"You are a historian expert in the Kennedy Family\"),\n",
    "    (\"human\",\"Tell me one curious thing about JFK.\"),\n",
    "]\n",
    "\n",
    "response = chatModel.invoke(messages)"
   ]
  },
  {
   "cell_type": "code",
   "execution_count": null,
   "metadata": {},
   "outputs": [],
   "source": [
    "print(response.content)\n",
    "print(response.response_metadata)\n",
    "print(response.schema())"
   ]
  },
  {
   "cell_type": "markdown",
   "metadata": {},
   "source": [
    "ALTERNATIVE OPEN SOURCE LLMs"
   ]
  },
  {
   "cell_type": "code",
   "execution_count": 12,
   "metadata": {},
   "outputs": [],
   "source": [
    "import os\n",
    "from dotenv import load_dotenv,find_dotenv\n",
    "_ = load_dotenv(find_dotenv())\n",
    "groq_api_key = os.environ[\"GROQ_API_KEY\"]"
   ]
  },
  {
   "cell_type": "code",
   "execution_count": 13,
   "metadata": {},
   "outputs": [],
   "source": [
    "from langchain_groq import ChatGroq\n",
    "llamaChatModel = ChatGroq(model=\"llama3-70b-8192\")"
   ]
  },
  {
   "cell_type": "code",
   "execution_count": 15,
   "metadata": {},
   "outputs": [],
   "source": [
    "messages = [\n",
    "    (\"system\",\"You are a historian expert in the Kennedy Family\"),\n",
    "    (\"human\",\"How many members of the family died tragically?\"),\n",
    "]\n",
    "\n",
    "response = llamaChatModel.invoke(messages)"
   ]
  },
  {
   "cell_type": "code",
   "execution_count": 16,
   "metadata": {},
   "outputs": [
    {
     "name": "stdout",
     "output_type": "stream",
     "text": [
      "The Kennedy family has indeed been marked by a series of tragic deaths, which have contributed to the family's mystique and the public's fascination with their story. Here are the members of the family who died tragically:\n",
      "\n",
      "1. Joseph P. Kennedy Jr. (1915-1944): The eldest son of Joseph P. Kennedy Sr. and Rose Fitzgerald Kennedy, Joe Jr. was a naval aviator who died in a plane crash on a secret mission during World War II.\n",
      "2. Kathleen Kennedy (1920-1948 Kathleen, known as \"Kick,\" was the fourth child and second daughter of the Kennedy family. She died in a plane crash in France in 1948, at the age of 28.\n",
      "3. John F. Kennedy (1917-1963): The 35th President of the United States, John F. Kennedy was assassinated in Dallas, Texas, on November 22, 1963, at the age of 46.\n",
      "4. Robert F. Kennedy (1925-1968): The Attorney General of the United States and Senator from New York, was assassinated on June 5, 1968, during his presidential campaign, at the age of 42.\n",
      "6. David Kennedy (1955-1984): The son of Robert F. Kennedy, David died of a drug overdose at the age of 28 in 1984.\n",
      "7. Michael LeMoyne Kennedy (1958-1997): Another son of Robert F. Kennedy, Michael died in a skiing accident in Aspen, Colorado, on New Year's Eve, December 31, 1997, at the age of 39.\n",
      "8. John F. Kennedy Jr. (1960-1999): The son of John F. Kennedy and Jacqueline Kennedy Onassis, John Jr. died in a plane crash off the coast of Massachusetts on July 18, 1999, at the age of 38.\n",
      "9. Kara Kennedy (1960-2011): The daughter of Edward M. Kennedy and Joan Bennett Kennedy, Kara died of a heart attack at the age of 51 in 2011.\n",
      "10. Saoirse Kennedy Hill (1997-2019): The granddaughter of Robert F. Kennedy, Saoirse died of a drug overdose at the age of 22 in 2019.\n",
      "\n",
      "These untimely deaths have contributed to the Kennedy family's reputation as being cursed, but it's also important to acknowledge the many accomplishments and contributions the family has made to American politics, society, and culture.\n"
     ]
    }
   ],
   "source": [
    "print(response.content)"
   ]
  }
 ],
 "metadata": {
  "kernelspec": {
   "display_name": "ai",
   "language": "python",
   "name": "python3"
  },
  "language_info": {
   "codemirror_mode": {
    "name": "ipython",
    "version": 3
   },
   "file_extension": ".py",
   "mimetype": "text/x-python",
   "name": "python",
   "nbconvert_exporter": "python",
   "pygments_lexer": "ipython3",
   "version": "3.12.9"
  }
 },
 "nbformat": 4,
 "nbformat_minor": 2
}
